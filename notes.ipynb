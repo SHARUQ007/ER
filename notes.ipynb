{
 "cells": [
  {
   "attachments": {},
   "cell_type": "markdown",
   "metadata": {},
   "source": [
    "**POSTGRES NOTES**\n",
    "\n",
    "\\?  ===> Help on the command line\n",
    "\\l  ===> lists all dbs "
   ]
  },
  {
   "attachments": {},
   "cell_type": "markdown",
   "metadata": {},
   "source": [
    "Create database --> not case sensitive\n",
    "convention upper case\n",
    "\n",
    "CREATE DATABASE <name>;\n",
    "\n",
    "eg.\n",
    "CREATE DATABASE testdb;\n",
    "\n",
    "# this output is shown if above command is executed\n",
    "CREATE DATABASE "
   ]
  },
  {
   "attachments": {},
   "cell_type": "markdown",
   "metadata": {},
   "source": [
    "connect to a database\n",
    "\n",
    "\\c <name>\n",
    "\n",
    "eg.\n",
    "\\c testdb\n",
    "\n",
    "# this output is shown if above command is executed\n",
    "test=#"
   ]
  },
  {
   "attachments": {},
   "cell_type": "markdown",
   "metadata": {},
   "source": [
    "delete a database\n",
    "\n",
    "DROP DATABASE <name>;\n",
    "\n",
    "eg.\n",
    "DROP DATABASE testdb;\n",
    "\n",
    "# this output is shown if above command is executed\n",
    "DROP DATABASE"
   ]
  },
  {
   "attachments": {},
   "cell_type": "markdown",
   "metadata": {},
   "source": [
    "create a table\n",
    "\n",
    "CREATE TABLE <name> (\n",
    "    <column1> <datatype>,\n",
    "    <column2> <datatype>,\n",
    "    <column3> <datatype>\n",
    ");\n",
    "\n",
    "eg.\n",
    "CREATE TABLE testtable (\n",
    "    id serial PRIMARY KEY,\n",
    "    name varchar(255) NOT NULL,\n",
    "    data JSONB\n",
    ");\n",
    "\n",
    "# this output is shown if above command is executed\n",
    "CREATE TABLE\n",
    "\n",
    "# testtable data\n",
    "\n",
    "id | name | data\n",
    "\n"
   ]
  },
  {
   "attachments": {},
   "cell_type": "markdown",
   "metadata": {},
   "source": [
    " CREATE TABLE person(\n",
    " id INT,\n",
    " first_name VARCHAR(50),\n",
    " last_name VARCHAR(50),\n",
    " gender VARCHAR(7),\n",
    " date_of_birth DATE);\n",
    "\n",
    "# output \n",
    "CREATE TABLE\n",
    "\n",
    "\\d person\n",
    "\n",
    "# output\n",
    "Table \"public.person\"\n",
    "Column     | Type                  | Modifiers\n",
    "-----------+-----------------------+-------------\n",
    "id         | integer               |\n",
    "first_name | character varying(50) |\n",
    "last_name  | character varying(50) |\n",
    "\n",
    "\n",
    "\n",
    "\n",
    "\n"
   ]
  },
  {
   "attachments": {},
   "cell_type": "markdown",
   "metadata": {},
   "source": [
    "drop table\n",
    "\n",
    "DROP TABLE <name>;\n",
    "\n",
    "eg.\n",
    "DROP TABLE testtable;\n",
    "\n",
    "# this output is shown if above command is executed\n",
    "DROP TABLE"
   ]
  },
  {
   "attachments": {},
   "cell_type": "markdown",
   "metadata": {},
   "source": [
    " CREATE TABLE person(\n",
    " id BIGSERIAL INT PRIMARY KEY,\n",
    " first_name VARCHAR(50) NOT NULL,\n",
    " last_name VARCHAR(50) NOT NULL,\n",
    " gender VARCHAR(7) NOT NULL,\n",
    " date_of_birth DATE NOT NULL);\n",
    "\n",
    "# output\n",
    "CREATE TABLE\n",
    "\n",
    "\\d person\n",
    "\n",
    "<!-- # output\n",
    "Table \"public.person\"\n",
    "Column     | Type                  | Modifiers\n",
    "-----------+-----------------------+-------------\n",
    "id         | bigint                | not null default nextval('person_id_seq'::regclass)\n",
    "first_name | character varying(50) | not null\n",
    "last_name  | character varying(50) |\n",
    " -->\n"
   ]
  },
  {
   "cell_type": "code",
   "execution_count": null,
   "metadata": {
    "vscode": {
     "languageId": "sql"
    }
   },
   "outputs": [],
   "source": [
    "-- Insert data to the table\n",
    "\n",
    "INSERT INTO <table_name> (<column1>, <column2>, <column3>)\n",
    "VALUES (<value1>, <value2>, <value3>);\n",
    "-- eg.\n",
    "\n",
    "INSERT INTO person (first_name, last_name, gender, date_of_birth)\n",
    "VALUES ('John','Wick','Male',date '2000-04-27');\n",
    "\n",
    "\n"
   ]
  },
  {
   "attachments": {},
   "cell_type": "markdown",
   "metadata": {},
   "source": [
    "\\i '/Users/MY\\ PC/Desktop/Thrillophilia/postgres/person.sql'\\q"
   ]
  },
  {
   "attachments": {},
   "cell_type": "markdown",
   "metadata": {},
   "source": [
    "\\dt\n",
    "\n",
    "#output\n",
    "shows only tables"
   ]
  },
  {
   "attachments": {},
   "cell_type": "markdown",
   "metadata": {},
   "source": [
    "BIGSERIAL \n",
    "A sequence generator that generates 64-bit signed integer values. The sequence is created implicitly when the column type is declared as BIGSERIAL. The sequence is owned by the column, which means that when the owning table is dropped, so is the sequence. The sequence is created in the same schema as the table, has the same name as the table, and has column name as its default name. The sequence can be accessed directly with the last_value function."
   ]
  },
  {
   "attachments": {},
   "cell_type": "markdown",
   "metadata": {},
   "source": [
    "**EXTREMELY IMPORTANT**\n",
    "\n",
    "\\i '/Users/MY\\ PC/Desktop/Thrillophilia/postgres/person.sql'\n",
    "\n",
    "To RUN SQL CODE FROM A FILE ON PSQL"
   ]
  },
  {
   "attachments": {},
   "cell_type": "markdown",
   "metadata": {},
   "source": [
    "READ TABLES\n",
    "\n",
    "SELECT * FROM PERSON;\n",
    "SELECT first_name FROM PERSON;\n",
    "SELECT first_name, last_name FROM PERSON;"
   ]
  },
  {
   "cell_type": "code",
   "execution_count": null,
   "metadata": {
    "vscode": {
     "languageId": "sql"
    }
   },
   "outputs": [],
   "source": [
    "-- SORT TABLES\n",
    "\n",
    "SELECT * FROM PERSON ORDER BY country_of_origin;\n",
    "This by default is ascending, can explicity specify by ASC\n",
    "SELECT * FROM PERSON ORDER BY country_of_origin DESC;"
   ]
  },
  {
   "attachments": {},
   "cell_type": "markdown",
   "metadata": {},
   "source": [
    "DISTINCT\n",
    "\n",
    "to get only unique values by removing duplicates\n",
    "\n",
    "SELECT DISTINCT country_of_origin FROM person ORDER BY country_of_origin;"
   ]
  },
  {
   "attachments": {},
   "cell_type": "markdown",
   "metadata": {},
   "source": [
    "WHERE\n",
    "SELECT * FROM person WHERE Gender = 'Female';\n",
    "\n",
    "WHERE AND\n",
    "SELECT * FROM person WHERE Gender = 'Female' AND country_of_origin = 'Poland';\n",
    "\n",
    "WHERE OR\n",
    "SELECT * FROM person WHERE Gender = 'Female' AND (country_of_origin = 'Poland' OR country_of_origin = 'Lebanon');\n"
   ]
  },
  {
   "attachments": {},
   "cell_type": "markdown",
   "metadata": {},
   "source": [
    "COMPARISON OPERATOR\n",
    "\n",
    "SELECT * FROM person WHERE date_of_birth > '1990-01-01';\n",
    "\n",
    "SELECT * FROM person WHERE date_of_birth > '1990-01-01' AND date_of_birth < '1995-01-01';\n",
    "\n",
    "SELECT * FROM person WHERE date_of_birth BETWEEN '1990-01-01' AND '1995-01-01';\n",
    "\n",
    "SELECT * FROM person WHERE date_of_birth NOT BETWEEN '1990-01-01' AND '1995-01-01';\n",
    "\n",
    "SELECT * FROM person WHERE first_name LIKE 'A%';\n",
    "\n",
    "SELECT * FROM person WHERE first_name LIKE '%a';\n",
    "\n",
    "SELECT * FROM person WHERE first_name LIKE '%a%';\n",
    "\n",
    "SELECT * FROM person WHERE first_name LIKE '_a%';\n",
    "\n",
    "SELECT * FROM person WHERE first_name LIKE 'A__%';\n",
    "\n",
    "SELECT * FROM person WHERE first_name LIKE 'A%a';"
   ]
  },
  {
   "attachments": {},
   "cell_type": "markdown",
   "metadata": {},
   "source": [
    "SELECT 1=1;\n",
    "\n",
    "# output\n",
    "    ?column?\n",
    "-------------\n",
    "    t\n",
    "    (1 row)\n",
    "\n",
    "SELECT 1=0;\n",
    "# output\n",
    "    ?column?\n",
    "-------------\n",
    "    f\n",
    "    (1 row)\n",
    "\n",
    "SELECT 1<>1;\n",
    "# output\n",
    "    ?column?\n",
    "-------------\n",
    "    f\n",
    "    (1 row)\n",
    "\n",
    "SELECT 1<>0;\n",
    "# output\n",
    "    ?column?\n",
    "-------------\n",
    "    t\n",
    "    (1 row)"
   ]
  },
  {
   "attachments": {},
   "cell_type": "markdown",
   "metadata": {},
   "source": [
    "limit \n",
    "limits the output to the given limit\n",
    "\n",
    "SELECT * FROM person LIMIT 5;\n",
    "\n",
    "offset\n",
    "offsets the output by the given number i.e shows the outputs after given offset in this case from 6-10\n",
    "\n",
    "SELECT * FROM person LIMIT 5 OFFSET 5;\n",
    "\n",
    "Fetch\n",
    "Fetches the given number of rows after the given offset\n",
    "\n",
    "SELECT * FROM person OFFSET 10 FETCH FIRST 5 ROWS ONLY;\n",
    "\n",
    "between\n",
    "selects the rows between the given range\n",
    "\n",
    "SELECT * FROM person WHERE date_of_birth BETWEEN '1990-01-01' AND '1995-01-01';\n",
    "\n",
    "Like and iLike\n",
    "selects the rows that match the given pattern\n",
    "\n",
    "SELECT * FROM person WHERE first_name LIKE 'A%';\n",
    "\n",
    "SELECT * FROM person WHERE first_name ILIKE 'a%';\n"
   ]
  },
  {
   "attachments": {},
   "cell_type": "markdown",
   "metadata": {},
   "source": [
    "GROUP BY\n",
    "groups the rows by the given column\n",
    "\n",
    "SELECT country_of_origin, COUNT(*) FROM person GROUP BY country_of_origin;\n",
    "\n",
    "ORDER BY\n",
    "orders the rows by the given column\n",
    "\n",
    "SELECT * FROM person ORDER BY first_name;\n"
   ]
  },
  {
   "attachments": {},
   "cell_type": "markdown",
   "metadata": {},
   "source": [
    "MAX\n",
    "returns the maximum value of the given column\n",
    "\n",
    "SELECT MAX(date_of_birth) FROM person;\n",
    "\n",
    "MIN\n",
    "returns the minimum value of the given column\n",
    "\n",
    "SELECT MIN(date_of_birth) FROM person;\n",
    "\n",
    "MAX with GROUP BY\n",
    "\n",
    "SELECT country_of_origin, MAX(date_of_birth) FROM person GROUP BY country_of_origin;\n",
    "SELECT first_name, country_of_origin, MAX(date_of_birth) FROM person GROUP BY first_name,country_of_origin;\n",
    "\n",
    "SUM\n",
    "returns the sum of the given column\n",
    "\n",
    "SELECT SUM(id) FROM person;\n",
    "\n",
    "ALIAS KEYWORD\n",
    "used to give a temporary name to a column or table\n",
    "\n",
    "SELECT first_name AS \"First Name\", last_name AS \"Last Name\" FROM person;\n",
    "\n",
    "COALESCE\n",
    "returns the first non-null value\n",
    "\n",
    "SELECT COALESCE(NULL, 'Hello', 'World');\n",
    "\n",
    "COALESCE WITH DATA SET\n",
    "\n",
    "SELECT first_name, COALESCE(last_name, 'No Last Name') FROM person;\n",
    "\n",
    "NULLIF\n",
    "returns null if the two values are equal else returns the first value\n",
    "\n",
    "SELECT NULLIF('Hello', 'Hello');\n"
   ]
  }
 ],
 "metadata": {
  "kernelspec": {
   "display_name": "Python 3",
   "language": "python",
   "name": "python3"
  },
  "language_info": {
   "name": "python",
   "version": "3.10.4 (tags/v3.10.4:9d38120, Mar 23 2022, 23:13:41) [MSC v.1929 64 bit (AMD64)]"
  },
  "orig_nbformat": 4,
  "vscode": {
   "interpreter": {
    "hash": "c2179751ad50800ec8979e38a9292780ce66a59a2f5ca0b6decaa9585ea597e9"
   }
  }
 },
 "nbformat": 4,
 "nbformat_minor": 2
}
